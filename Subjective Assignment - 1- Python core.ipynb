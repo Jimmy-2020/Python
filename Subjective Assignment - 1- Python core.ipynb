{
 "cells": [
  {
   "cell_type": "markdown",
   "metadata": {},
   "source": [
    "Q1. Write a Python program to get the string from the given string where\n",
    "all the occurrence of its first char has been changed to '$,' except first\n",
    "char itself?\n",
    "\n",
    "    Sample String: 'prospect'\n",
    "    Expected Result : 'pros$ect'\n"
   ]
  },
  {
   "cell_type": "code",
   "execution_count": 26,
   "metadata": {},
   "outputs": [
    {
     "name": "stdout",
     "output_type": "stream",
     "text": [
      "prospect\n",
      "$ros$ect\n",
      "$ros$ect\n"
     ]
    }
   ],
   "source": [
    "getinput = input()\n",
    "l = len(getinput)\n",
    "b = getinput[0]        #Get the 1st character\n",
    "getinputMod = \"$\" #Replace the 1st character with $\n",
    "\n",
    "for a in (range(l)):\n",
    "    if a > 0 :\n",
    "        if getinput[a] == b :\n",
    "           getinputMod = getinputMod + \"$\" # Replace where match is found\n",
    "        else :\n",
    "            getinputMod = getinputMod + getinput[a] # Add the balance characters\n",
    "    \n",
    "print(getinputMod)\n",
    "\n",
    "# OR Using builtin function#\n",
    "\n",
    "print(getinput.replace(b, \"$\"))   \n"
   ]
  },
  {
   "cell_type": "markdown",
   "metadata": {},
   "source": [
    "Q2. Write a Python program to get the single string from the two given\n",
    "strings, and separated by the space and swap the first two characters of\n",
    "each string?\n",
    "\n",
    "    Sample String : 'abc', 'xyz'.\n",
    "    Expected Result: 'xyc abz'"
   ]
  },
  {
   "cell_type": "code",
   "execution_count": 19,
   "metadata": {},
   "outputs": [
    {
     "name": "stdout",
     "output_type": "stream",
     "text": [
      "abc\n",
      "xyz\n",
      "xy\n",
      "xyc abz\n"
     ]
    }
   ],
   "source": [
    "str1 = input()\n",
    "str2 = input()\n",
    "str1len = len(str1)\n",
    "str2len = len(str2)\n",
    "\n",
    "str1last = str1[str1len -1 ]\n",
    "str2last = str2[str2len -1]\n",
    "\n",
    "str1lhs = str1[0:str1len - 1]\n",
    "str2lhs = str2[0:str2len - 1]\n",
    "\n",
    "newstr = str2lhs + str1last + \" \" + str1lhs + str2last\n",
    "\n",
    "print(newstr)\n",
    "\n",
    "\n"
   ]
  },
  {
   "cell_type": "markdown",
   "metadata": {},
   "source": [
    "Q3. Write the Python program to add 'ing' at the end of the given string\n",
    "(length of the string should be at least 3). If given string already ends\n",
    "with 'ing,' then add 'ly' instead. If string length of the given string is less\n",
    "than 3, leave it unchanged?\n",
    "\n",
    "\n",
    "    Sample string: ' abc '\n",
    "    Expected result: ' abcing '\n",
    "    Sample string: ' string '\n",
    "    Expected result: ' stringly '\n"
   ]
  },
  {
   "cell_type": "code",
   "execution_count": 37,
   "metadata": {},
   "outputs": [
    {
     "name": "stdout",
     "output_type": "stream",
     "text": [
      "sport\n",
      "sporting\n"
     ]
    }
   ],
   "source": [
    "str1 = input()\n",
    "str1len = len(str1)\n",
    "\n",
    "lastthreechar = str1[-3:]\n",
    "\n",
    "if lastthreechar == 'ing' :\n",
    "   print(str1 +  \"ly\")\n",
    "else :\n",
    "   print(str1 + 'ing') \n",
    "\n"
   ]
  },
  {
   "cell_type": "markdown",
   "metadata": {},
   "source": [
    "Q4. Write the Python program to find the first appearance of the\n",
    "substring 'not' and 'poor' from the given string, if 'not' follows the 'poor',\n",
    "replace the whole 'not'...' poor' substring with 'good'.Return the resulting\n",
    "string.\n",
    "\n",
    "    Sample string: 'The lyrics are not that poor!'\n",
    "    'The lyrics are poor!'\n",
    "    Expected Result: 'The lyrics are good!'\n",
    "    'The lyrics are poor!'"
   ]
  },
  {
   "cell_type": "code",
   "execution_count": 50,
   "metadata": {},
   "outputs": [
    {
     "name": "stdout",
     "output_type": "stream",
     "text": [
      "'The lyrics are good!\n"
     ]
    }
   ],
   "source": [
    "string1 = \"'The lyrics are not that poor!\"\n",
    "newstring = \"\"\n",
    "addstring = \"\"\n",
    "\n",
    "NotIndex =  string1.find('not')\n",
    "PoorIndex = string1.find('poor')\n",
    "\n",
    "if NotIndex and PoorIndex > 0 :\n",
    "    for a in range(NotIndex) :\n",
    "        newstring = newstring + string1[a]\n",
    "        addstring = \"good!\"\n",
    "\n",
    "print(newstring + addstring) \n"
   ]
  },
  {
   "cell_type": "markdown",
   "metadata": {},
   "source": [
    "Q5. Write the Python program to remove the characters which have odd\n",
    "index values of a given string."
   ]
  },
  {
   "cell_type": "code",
   "execution_count": 65,
   "metadata": {},
   "outputs": [
    {
     "name": "stdout",
     "output_type": "stream",
     "text": [
      "Pto rga\n",
      "Pto rga\n"
     ]
    }
   ],
   "source": [
    "string1 = \"Python Program\"\n",
    "newstring =\"\"\n",
    "l = len(string1)\n",
    "for a in range(l) :\n",
    "    if a % 2 == 0 :\n",
    "       newstring = newstring +string1[a] \n",
    "    \n",
    "print(newstring)\n",
    "\n",
    "#OR#\n",
    "\n",
    "print(string1[0:l:2])"
   ]
  },
  {
   "cell_type": "markdown",
   "metadata": {},
   "source": [
    "Q6. Write the python program to print the following floating numbers up\n",
    "to 2 decimal places?"
   ]
  },
  {
   "cell_type": "code",
   "execution_count": 85,
   "metadata": {},
   "outputs": [
    {
     "name": "stdout",
     "output_type": "stream",
     "text": [
      "20.12\n"
     ]
    }
   ],
   "source": [
    "b = 20.120\n",
    "print(\"{:.2f}\".format(b))"
   ]
  },
  {
   "cell_type": "markdown",
   "metadata": {},
   "source": [
    "Q7. Write the Python program to format a number with a percentage?"
   ]
  },
  {
   "cell_type": "code",
   "execution_count": 73,
   "metadata": {},
   "outputs": [
    {
     "name": "stdout",
     "output_type": "stream",
     "text": [
      "0%\n",
      "1%\n",
      "2%\n",
      "3%\n",
      "4%\n",
      "5%\n",
      "6%\n",
      "7%\n",
      "8%\n",
      "9%\n"
     ]
    }
   ],
   "source": [
    "for a in range(10) :\n",
    "    print (\"{:.0%}\".format(a/100))\n",
    "    "
   ]
  },
  {
   "cell_type": "markdown",
   "metadata": {},
   "source": [
    "Q8. Write the Python program to count occurrences of a substring in a\n",
    "String?"
   ]
  },
  {
   "cell_type": "code",
   "execution_count": 107,
   "metadata": {},
   "outputs": [
    {
     "name": "stdout",
     "output_type": "stream",
     "text": [
      "2\n"
     ]
    }
   ],
   "source": [
    "Samplestring = ' thequickbrownjumpsoverthelazydog '\n",
    "print(Samplestring.count(\"the\"))\n",
    "\n"
   ]
  },
  {
   "cell_type": "markdown",
   "metadata": {},
   "source": [
    "Q9. Write the Python program to count repeated characters in a string.\n",
    "\n",
    "    Sample string: ' thequickbrownjumpsoverthelazydog '\n",
    "    \n",
    "    Expected output:\n",
    "    o 3\n",
    "    e 3\n",
    "    u 2\n",
    "    h 2\n",
    "    r 2\n",
    "    t 2"
   ]
  },
  {
   "cell_type": "code",
   "execution_count": 29,
   "metadata": {},
   "outputs": [
    {
     "name": "stdout",
     "output_type": "stream",
     "text": [
      "  8\n",
      "t 2\n",
      "h 2\n",
      "e 3\n",
      "q 1\n",
      "u 2\n",
      "i 1\n",
      "c 1\n",
      "k 1\n",
      "b 1\n",
      "r 2\n",
      "o 3\n",
      "w 1\n",
      "n 1\n",
      "j 1\n",
      "m 1\n",
      "p 1\n",
      "s 1\n",
      "v 1\n",
      "l 1\n",
      "a 1\n",
      "z 1\n",
      "y 1\n",
      "d 1\n",
      "g 1\n"
     ]
    }
   ],
   "source": [
    "Samplestring = ' the quick brown jumps over the lazydog '\n",
    "Checkduplicate = \"\"\n",
    "\n",
    "for a in Samplestring:\n",
    "    if a in Checkduplicate: donothing = \"donothing\" \n",
    "    else:\n",
    "        Tcount =  Samplestring.count(a)\n",
    "        print(a + \" \" + str(Tcount))\n",
    "    Checkduplicate = Checkduplicate + a\n"
   ]
  },
  {
   "cell_type": "markdown",
   "metadata": {},
   "source": [
    "Q10. Write the Python program to print the square and cube symbol in\n",
    "the area of a rectangle and volume of a cylinder?\n",
    "\n",
    "    Sample outputThe area of the rectangle is 1256.66cm2\n",
    "    The volume of the cylinder is 1254.725cm3\n"
   ]
  },
  {
   "cell_type": "code",
   "execution_count": 49,
   "metadata": {},
   "outputs": [
    {
     "name": "stdout",
     "output_type": "stream",
     "text": [
      "The area of the rectangle is 125.66cm²\n",
      "The area of the rectangle is 1254.725cm³\n"
     ]
    }
   ],
   "source": [
    "Str1 = \"The area of the rectangle is\"\n",
    "Str2 = \"The volume of the cylinder is\"\n",
    "Area = 125.66\n",
    "Volume =  1254.725\n",
    "\n",
    "print ('%s %.2fcm\\u00b2' % (Str1, Area)) #2decimal cm \\u00b2-> raised to 2\n",
    "print ('%s %.3fcm\\u00b3' % (Str1, Volume)) #3decimal cm \\u00b3-> raised to 3\n",
    "\n",
    "#print(\"The area of your rectangle is {}cm\\u00b2\".format(Area))\n"
   ]
  },
  {
   "cell_type": "markdown",
   "metadata": {},
   "source": [
    "Q11. Write the Python program to check if a string contains all letters of\n",
    "the alphabet?"
   ]
  },
  {
   "cell_type": "code",
   "execution_count": 24,
   "metadata": {},
   "outputs": [
    {
     "name": "stdout",
     "output_type": "stream",
     "text": [
      "Yes\n"
     ]
    }
   ],
   "source": [
    "Samplestring = ' the quick brown fox jumps over the lazydog '\n",
    "#Samplestring = ' the quick brown ox jumps over the lazydog ' #Test\n",
    "\n",
    "Alphabets = \" abcdefghijklmnopqrstuvwxyz\"\n",
    "\n",
    "Alphabetctr = 0\n",
    "\n",
    "for a in Alphabets:\n",
    "    if a in Samplestring: \n",
    "        Alphabetctr = Alphabetctr + 1 \n",
    "    else : break\n",
    "        \n",
    "if len(Alphabets) == Alphabetctr :\n",
    "    print(\"Yes\")\n",
    "else :\n",
    "    print(\"No\")\n",
    "\n"
   ]
  },
  {
   "cell_type": "markdown",
   "metadata": {},
   "source": [
    "Q12. Write the Python program to find the second most repeated word in a given string?"
   ]
  },
  {
   "cell_type": "code",
   "execution_count": 35,
   "metadata": {},
   "outputs": [
    {
     "name": "stdout",
     "output_type": "stream",
     "text": [
      "Value 4\n",
      "Maximum repeated  the\n",
      "[(1, 'check'), (1, 'it'), (1, 'to'), (3, 'no'), (4, 'the')]\n",
      "The First most repeated word is (4, 'the')\n",
      "The Second most repeated word is (3, 'no')\n",
      "4\n",
      "3\n",
      "1\n",
      "1\n",
      "1\n",
      "the4no3check1to1it1\n"
     ]
    }
   ],
   "source": [
    "string1 = \"the the the the no no no check to it\"\n",
    "words = string1.split()\n",
    "Output1 = \"\"\n",
    "\n",
    "counts = {}\n",
    "for word in words:\n",
    "    if word not in counts:\n",
    "        counts[word] = 0\n",
    "    counts[word] += 1\n",
    "\n",
    "Max = 0\n",
    "\n",
    "for a in counts:\n",
    "    #print(a,counts[a])\n",
    "    #print(counts[a])\n",
    "    if counts[a] > Max:\n",
    "        Max = counts[a]\n",
    "        Text = a\n",
    "    else:\n",
    "        donothing = 1\n",
    "\n",
    "print(\"Value\",Max)\n",
    "print(\"Maximum repeated \",Text)\n",
    "\n",
    "\n",
    "sorted_d = sorted((value, key) for (key,value) in counts.items())\n",
    "print(sorted_d)\n",
    "print(\"The First most repeated word is\", sorted_d[Max])\n",
    "print(\"The Second most repeated word is\", sorted_d[Max-1])\n",
    "        \n",
    "#for a in Maxword: print(a, Maxword[a])\n",
    "\n",
    "#Max = 'kid' if age < 18 else 'adult')        \n",
    "\n",
    "    \n",
    "sortedcount = {}\n",
    "sortedcount = sorted(counts.values())\n",
    "\n",
    "\n",
    "\n",
    "for word in words:\n",
    "    if word in Output1: donothing = 1\n",
    "    else: \n",
    "        Output1 = Output1 + word + str(string1.count(word)) \n",
    "        ctn = string1.count(word)\n",
    "        counts[word] = ctn\n",
    "\n",
    "    \n",
    "l = len(Output1)\n",
    "for a in range(l):\n",
    "    t = Output1[a].isnumeric()\n",
    "    if t :\n",
    "        print(Output1[a])    \n",
    "        \n",
    "print(Output1)    \n"
   ]
  },
  {
   "cell_type": "markdown",
   "metadata": {},
   "source": [
    "Q13. Write the Python program to find the minimum window in the given\n",
    "string, which will contains all the characters of another given\n",
    "strings?\n",
    "\n",
    "    Example 1\n",
    "    Input : string1 = \" PRWSOERIUSFK \"\n",
    "    string2 = \" OSU \"\n",
    "    Output: Minimum window is \"OERIUS\""
   ]
  },
  {
   "cell_type": "code",
   "execution_count": 47,
   "metadata": {},
   "outputs": [
    {
     "name": "stdout",
     "output_type": "stream",
     "text": [
      "O\n",
      "S\n",
      "7\n",
      "R\n"
     ]
    }
   ],
   "source": [
    "string1 = \" PRWSOERIUSFK \"\n",
    "string2 = \" O \"\n",
    "output = \"\"\n",
    "\n",
    "count = 0\n",
    "for a in string2:\n",
    "    if a != \" \" : print(a)\n",
    "    for b in string1 :\n",
    "        if a in b: count = count + 1 \n",
    "print(count)\n",
    "print(string1[count])    \n",
    "\n",
    "\n"
   ]
  },
  {
   "cell_type": "markdown",
   "metadata": {},
   "source": [
    "Q14. Write the Python program to count number of substrings from a\n",
    "given string of lowercase alphabets with exactly k distinct (given)\n",
    "characters?\n",
    "\n",
    "    Input a string (lowercase alphabets): wolf\n",
    "    Input k: 4\n",
    "    Number of substrings with exactly 4 distinct characters: 1"
   ]
  },
  {
   "cell_type": "code",
   "execution_count": 56,
   "metadata": {},
   "outputs": [
    {
     "name": "stdout",
     "output_type": "stream",
     "text": [
      "Input a string :QWERT\n",
      "5\n"
     ]
    }
   ],
   "source": [
    "str1 = input('Input a string :')\n",
    "str2 = str1.lower()\n",
    "print(len(str1))\n"
   ]
  },
  {
   "cell_type": "markdown",
   "metadata": {},
   "source": [
    "Q15. Write the Python program to count number of substrings with same\n",
    "first and last characters of the given string?\n",
    "\n",
    "    Input a string: abcd\n",
    "    4\n"
   ]
  },
  {
   "cell_type": "code",
   "execution_count": 55,
   "metadata": {},
   "outputs": [
    {
     "name": "stdout",
     "output_type": "stream",
     "text": [
      "Input a string qwert\n",
      "5\n"
     ]
    }
   ],
   "source": [
    "str1 = input('Input a string ')\n",
    "print(len(str1))"
   ]
  },
  {
   "cell_type": "markdown",
   "metadata": {},
   "source": [
    "## Great Job!"
   ]
  }
 ],
 "metadata": {
  "kernelspec": {
   "display_name": "Python 3",
   "language": "python",
   "name": "python3"
  },
  "language_info": {
   "codemirror_mode": {
    "name": "ipython",
    "version": 3
   },
   "file_extension": ".py",
   "mimetype": "text/x-python",
   "name": "python",
   "nbconvert_exporter": "python",
   "pygments_lexer": "ipython3",
   "version": "3.7.4"
  }
 },
 "nbformat": 4,
 "nbformat_minor": 2
}
